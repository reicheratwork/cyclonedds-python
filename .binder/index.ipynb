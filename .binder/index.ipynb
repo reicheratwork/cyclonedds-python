{
 "cells": [
  {
   "cell_type": "markdown",
   "id": "f79844b6-ba27-4b85-8cef-efabf837e1ac",
   "metadata": {},
   "source": [
    "# CycloneDDS-Python Binder Quicklaunch"
   ]
  },
  {
   "cell_type": "markdown",
   "id": "wired-branch",
   "metadata": {},
   "source": [
    "This notebook pulls ``cyclonedds==0.8.0`` directly from testpypi in a binder repo2docker image and then gets wrapped by binders jupyter notebook functionality. The network in the docker container is isolated from the rest of the world but you can directly play with CycloneDDS-Python in a browser."
   ]
  },
  {
   "cell_type": "code",
   "execution_count": null,
   "id": "prescribed-forty",
   "metadata": {},
   "outputs": [],
   "source": [
    "from cyclonedds.domain import DomainParticipant\n",
    "from cyclonedds.pub import DataWriter\n",
    "from cyclonedds.topic import Topic\n",
    "from cyclonedds.sub import DataReader\n",
    "from pycdr import cdr\n",
    "\n",
    "@cdr\n",
    "class Message:\n",
    "    msg: str\n",
    "\n",
    "dp = DomainParticipant()\n",
    "tp = Topic(dp, \"Message\", Message)\n",
    "wr = DataWriter(dp, tp)\n",
    "rd = DataReader(dp, tp)\n",
    "\n",
    "wr.write(Message(msg=\"Hello, World!\"))\n",
    "\n",
    "print(rd.read_next())"
   ]
  }
 ],
 "metadata": {
  "kernelspec": {
   "display_name": "Python 3",
   "language": "python",
   "name": "python3"
  },
  "language_info": {
   "codemirror_mode": {
    "name": "ipython",
    "version": 3
   },
   "file_extension": ".py",
   "mimetype": "text/x-python",
   "name": "python",
   "nbconvert_exporter": "python",
   "pygments_lexer": "ipython3",
   "version": "3.9.2"
  }
 },
 "nbformat": 4,
 "nbformat_minor": 5
}
